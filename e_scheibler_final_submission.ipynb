{
 "cells": [
  {
   "cell_type": "markdown",
   "metadata": {},
   "source": [
    "## Sports Analytics Final Report"
   ]
  },
  {
   "cell_type": "markdown",
   "metadata": {},
   "source": [
    "### Evan Scheibler"
   ]
  },
  {
   "cell_type": "markdown",
   "metadata": {},
   "source": [
    "#### We will attempt to identify important customers, based on the value of the surrounding area they live, and the percentage of married heads of household in their area. These two variables, in combination with the number of years and whether or not the buyer is a 'backer' will help us find who is likely to renew or defect."
   ]
  },
  {
   "cell_type": "raw",
   "metadata": {},
   "source": [
    "FAKEID\tthe ticket buyer's unique ID number\n",
    "YXdefect \t\"X\" indicates the year\n",
    "\tY3defect=1 for year 2 ticket holders that did not renew for year 3\n",
    "\tY3defect=0 for year 2 ticket holders that did renew for year 3\n",
    "\tY2defect=1 for year 1 ticket holders that did not renew for year 2\n",
    "\tY2defect=0 for year 1 ticket holders that did renew for year 2\n",
    "YXGZ\t\"X\" indicates the year, \"Z\" indicates the game\n",
    "\te.g. Y2G4=1 for the tickets being used for game 4 in year 2\n",
    "\te.g. Y2G4=0 for the tickets not being used for game 4 in year 2\n",
    "YXprice\t\"X\" indicates the year\n",
    "\tthe price paid per ticket in the indicated year\n",
    "YEARS\tthe number of years as a season ticket holder\n",
    "BACKER\t1=member of the team's \"backer\" club\n",
    "\t0=not a member of the team's \"backer\" club\n",
    "AGE\tage of the ticket buyer (blank=unknown)\n",
    "INCOME\tincome category of the ticket buyer (0=low, 6=high)\n",
    "CHILD\t1=at least one child age 0-18 in household (blank indicates none or unknown)\n",
    "GNDR\t1=male, 0=female, blank=unknown\n",
    "OWNHOME\t1=owns home, 0=does not own home, blank=unknown\n",
    "SPORT\tpurchased appended data\n",
    "\t1=subscribes to a sports magazine, 0=does not subscribe to a sports magazine, blank = unknown\n",
    "COMP\tpurchased appended data\n",
    "\t1=owns a PC (blank indicates does not own a PC or unknown)\n",
    "PCTMARR\tappended census data at zip code level\n",
    "\tpercentage of married heads of household\n",
    "HOMEVAL\tappended census data at zip code level\n",
    "\taverage value of homes in 1000s of dollars"
   ]
  },
  {
   "cell_type": "code",
   "execution_count": 1,
   "metadata": {},
   "outputs": [
    {
     "name": "stderr",
     "output_type": "stream",
     "text": [
      "C:\\Users\\esche\\Anaconda2\\lib\\site-packages\\statsmodels\\compat\\pandas.py:56: FutureWarning: The pandas.core.datetools module is deprecated and will be removed in a future version. Please use the pandas.tseries module instead.\n",
      "  from pandas.core import datetools\n"
     ]
    }
   ],
   "source": [
    "import numpy as np\n",
    "import pandas as pd\n",
    "import matplotlib.pyplot as plt\n",
    "import seaborn as sns\n",
    "%matplotlib inline\n",
    "\n",
    "#import decisiontreeclassifier\n",
    "from sklearn import tree\n",
    "from sklearn.tree import DecisionTreeClassifier\n",
    "#import logisticregression classifier\n",
    "from sklearn.linear_model import LogisticRegression\n",
    "import statsmodels.api as sm\n",
    "#import knn classifier\n",
    "from sklearn.neighbors import KNeighborsClassifier\n",
    "\n",
    "from sklearn import svm\n",
    "from sklearn.neural_network import MLPClassifier\n",
    "\n",
    "\n",
    "#ensemble classifier\n",
    "from sklearn.ensemble import RandomForestClassifier\n",
    "from sklearn.ensemble import GradientBoostingClassifier  #GBM algorithm\n",
    "\n",
    "from sklearn.metrics import classification_report, f1_score, accuracy_score, confusion_matrix\n",
    "from sklearn.model_selection import StratifiedKFold, cross_val_score, train_test_split, GridSearchCV, RandomizedSearchCV \n",
    "from sklearn import metrics\n",
    "from sklearn.metrics import roc_auc_score, auc\n",
    "\n",
    "# feature selection\n",
    "from sklearn.feature_selection import RFE\n",
    "from sklearn.ensemble import ExtraTreesClassifier\n",
    "from sklearn.feature_selection import SelectKBest\n",
    "from sklearn.feature_selection import chi2\n",
    "\n",
    "#regression packages\n",
    "import sklearn.linear_model as lm\n",
    "from sklearn.metrics import mean_squared_error\n",
    "from sklearn.metrics import explained_variance_score\n",
    "import statsmodels.formula.api as sm"
   ]
  },
  {
   "cell_type": "code",
   "execution_count": 2,
   "metadata": {},
   "outputs": [
    {
     "data": {
      "text/html": [
       "<div>\n",
       "<style scoped>\n",
       "    .dataframe tbody tr th:only-of-type {\n",
       "        vertical-align: middle;\n",
       "    }\n",
       "\n",
       "    .dataframe tbody tr th {\n",
       "        vertical-align: top;\n",
       "    }\n",
       "\n",
       "    .dataframe thead th {\n",
       "        text-align: right;\n",
       "    }\n",
       "</style>\n",
       "<table border=\"1\" class=\"dataframe\">\n",
       "  <thead>\n",
       "    <tr style=\"text-align: right;\">\n",
       "      <th></th>\n",
       "      <th>FAKEID</th>\n",
       "      <th>Y2defect</th>\n",
       "      <th>Y1G5</th>\n",
       "      <th>Y1G4</th>\n",
       "      <th>Y1G3</th>\n",
       "      <th>Y1G2</th>\n",
       "      <th>Y1G1</th>\n",
       "      <th>Y1price</th>\n",
       "      <th>YEARS</th>\n",
       "      <th>BACKER</th>\n",
       "      <th>AGE</th>\n",
       "      <th>INCOME</th>\n",
       "      <th>CHILD</th>\n",
       "      <th>GNDR</th>\n",
       "      <th>OWNHOME</th>\n",
       "      <th>SPORT</th>\n",
       "      <th>COMP</th>\n",
       "      <th>PCTMARR</th>\n",
       "      <th>HOMEVAL</th>\n",
       "    </tr>\n",
       "  </thead>\n",
       "  <tbody>\n",
       "    <tr>\n",
       "      <th>0</th>\n",
       "      <td>580V74KT</td>\n",
       "      <td>0</td>\n",
       "      <td>0</td>\n",
       "      <td>0</td>\n",
       "      <td>1</td>\n",
       "      <td>1</td>\n",
       "      <td>1</td>\n",
       "      <td>15</td>\n",
       "      <td>8</td>\n",
       "      <td>1</td>\n",
       "      <td>94</td>\n",
       "      <td>4</td>\n",
       "      <td>NaN</td>\n",
       "      <td>0</td>\n",
       "      <td>1</td>\n",
       "      <td>NaN</td>\n",
       "      <td></td>\n",
       "      <td>77</td>\n",
       "      <td>203</td>\n",
       "    </tr>\n",
       "    <tr>\n",
       "      <th>1</th>\n",
       "      <td>298S54OK</td>\n",
       "      <td>1</td>\n",
       "      <td>0</td>\n",
       "      <td>0</td>\n",
       "      <td>1</td>\n",
       "      <td>0</td>\n",
       "      <td>1</td>\n",
       "      <td>15</td>\n",
       "      <td>3</td>\n",
       "      <td>1</td>\n",
       "      <td></td>\n",
       "      <td></td>\n",
       "      <td>NaN</td>\n",
       "      <td>0</td>\n",
       "      <td>0</td>\n",
       "      <td>NaN</td>\n",
       "      <td>1</td>\n",
       "      <td>53</td>\n",
       "      <td>68</td>\n",
       "    </tr>\n",
       "    <tr>\n",
       "      <th>2</th>\n",
       "      <td>268D25AO</td>\n",
       "      <td>1</td>\n",
       "      <td>1</td>\n",
       "      <td>0</td>\n",
       "      <td>0</td>\n",
       "      <td>0</td>\n",
       "      <td>1</td>\n",
       "      <td>15</td>\n",
       "      <td>11</td>\n",
       "      <td>1</td>\n",
       "      <td>67</td>\n",
       "      <td>2</td>\n",
       "      <td>NaN</td>\n",
       "      <td>0</td>\n",
       "      <td>1</td>\n",
       "      <td>0.0</td>\n",
       "      <td></td>\n",
       "      <td>50</td>\n",
       "      <td>38</td>\n",
       "    </tr>\n",
       "    <tr>\n",
       "      <th>3</th>\n",
       "      <td>312Q12WV</td>\n",
       "      <td>1</td>\n",
       "      <td>1</td>\n",
       "      <td>0</td>\n",
       "      <td>1</td>\n",
       "      <td>0</td>\n",
       "      <td>1</td>\n",
       "      <td>15</td>\n",
       "      <td>4</td>\n",
       "      <td>0</td>\n",
       "      <td>62</td>\n",
       "      <td>4</td>\n",
       "      <td></td>\n",
       "      <td>1</td>\n",
       "      <td>1</td>\n",
       "      <td>0.0</td>\n",
       "      <td>1</td>\n",
       "      <td>60</td>\n",
       "      <td>68</td>\n",
       "    </tr>\n",
       "    <tr>\n",
       "      <th>4</th>\n",
       "      <td>420R23VB</td>\n",
       "      <td>0</td>\n",
       "      <td>0</td>\n",
       "      <td>0</td>\n",
       "      <td>1</td>\n",
       "      <td>0</td>\n",
       "      <td>0</td>\n",
       "      <td>15</td>\n",
       "      <td>5</td>\n",
       "      <td>0</td>\n",
       "      <td>89</td>\n",
       "      <td>4</td>\n",
       "      <td></td>\n",
       "      <td>1</td>\n",
       "      <td>1</td>\n",
       "      <td>0.0</td>\n",
       "      <td></td>\n",
       "      <td>65</td>\n",
       "      <td>194</td>\n",
       "    </tr>\n",
       "  </tbody>\n",
       "</table>\n",
       "</div>"
      ],
      "text/plain": [
       "     FAKEID  Y2defect  Y1G5  Y1G4  Y1G3  Y1G2  Y1G1  Y1price  YEARS  BACKER  \\\n",
       "0  580V74KT         0     0     0     1     1     1       15      8       1   \n",
       "1  298S54OK         1     0     0     1     0     1       15      3       1   \n",
       "2  268D25AO         1     1     0     0     0     1       15     11       1   \n",
       "3  312Q12WV         1     1     0     1     0     1       15      4       0   \n",
       "4  420R23VB         0     0     0     1     0     0       15      5       0   \n",
       "\n",
       "  AGE INCOME CHILD GNDR OWNHOME  SPORT COMP  PCTMARR  HOMEVAL  \n",
       "0  94      4   NaN    0       1    NaN            77      203  \n",
       "1              NaN    0       0    NaN    1       53       68  \n",
       "2  67      2   NaN    0       1    0.0            50       38  \n",
       "3  62      4          1       1    0.0    1       60       68  \n",
       "4  89      4          1       1    0.0            65      194  "
      ]
     },
     "execution_count": 2,
     "metadata": {},
     "output_type": "execute_result"
    }
   ],
   "source": [
    "#read in file and show head\n",
    "df=pd.read_excel(\"train_test_dataset.xlsx\")\n",
    "df.head()"
   ]
  },
  {
   "cell_type": "code",
   "execution_count": 3,
   "metadata": {},
   "outputs": [
    {
     "name": "stdout",
     "output_type": "stream",
     "text": [
      "<class 'pandas.core.frame.DataFrame'>\n",
      "RangeIndex: 9216 entries, 0 to 9215\n",
      "Data columns (total 19 columns):\n",
      "FAKEID      9216 non-null object\n",
      "Y2defect    9216 non-null int64\n",
      "Y1G5        9216 non-null int64\n",
      "Y1G4        9216 non-null int64\n",
      "Y1G3        9216 non-null int64\n",
      "Y1G2        9216 non-null int64\n",
      "Y1G1        9216 non-null int64\n",
      "Y1price     9216 non-null int64\n",
      "YEARS       9216 non-null int64\n",
      "BACKER      9216 non-null int64\n",
      "AGE         9216 non-null object\n",
      "INCOME      9216 non-null object\n",
      "CHILD       4549 non-null object\n",
      "GNDR        9216 non-null object\n",
      "OWNHOME     9216 non-null object\n",
      "SPORT       4273 non-null float64\n",
      "COMP        9216 non-null object\n",
      "PCTMARR     9216 non-null int64\n",
      "HOMEVAL     9216 non-null int64\n",
      "dtypes: float64(1), int64(11), object(7)\n",
      "memory usage: 1.3+ MB\n"
     ]
    }
   ],
   "source": [
    "#show file types and number of entries\n",
    "df.info()"
   ]
  },
  {
   "cell_type": "code",
   "execution_count": 4,
   "metadata": {},
   "outputs": [
    {
     "data": {
      "text/plain": [
       "FAKEID         0\n",
       "Y2defect       0\n",
       "Y1G5           0\n",
       "Y1G4           0\n",
       "Y1G3           0\n",
       "Y1G2           0\n",
       "Y1G1           0\n",
       "Y1price        0\n",
       "YEARS          0\n",
       "BACKER         0\n",
       "AGE            0\n",
       "INCOME         0\n",
       "CHILD       4667\n",
       "GNDR           0\n",
       "OWNHOME        0\n",
       "SPORT       4943\n",
       "COMP           0\n",
       "PCTMARR        0\n",
       "HOMEVAL        0\n",
       "dtype: int64"
      ]
     },
     "execution_count": 4,
     "metadata": {},
     "output_type": "execute_result"
    }
   ],
   "source": [
    "#show the number of null values in the columns\n",
    "df.isnull().sum()"
   ]
  },
  {
   "cell_type": "markdown",
   "metadata": {},
   "source": [
    "## Model Development"
   ]
  },
  {
   "cell_type": "code",
   "execution_count": 5,
   "metadata": {},
   "outputs": [],
   "source": [
    "#creating the model for training\n",
    "y = df['Y2defect']\n",
    "X = df[['BACKER', 'YEARS', 'PCTMARR', 'HOMEVAL']]"
   ]
  },
  {
   "cell_type": "code",
   "execution_count": 6,
   "metadata": {},
   "outputs": [],
   "source": [
    "#run testing and training\n",
    "X_train, X_test, y_train, y_test = train_test_split(X, y, test_size=0.3, random_state=0)"
   ]
  },
  {
   "cell_type": "code",
   "execution_count": 7,
   "metadata": {},
   "outputs": [
    {
     "data": {
      "text/plain": [
       "DecisionTreeClassifier(class_weight=None, criterion='gini', max_depth=None,\n",
       "            max_features=None, max_leaf_nodes=None,\n",
       "            min_impurity_decrease=0.0, min_impurity_split=None,\n",
       "            min_samples_leaf=1, min_samples_split=2,\n",
       "            min_weight_fraction_leaf=0.0, presort=False, random_state=None,\n",
       "            splitter='best')"
      ]
     },
     "execution_count": 7,
     "metadata": {},
     "output_type": "execute_result"
    }
   ],
   "source": [
    "dt = DecisionTreeClassifier()\n",
    "dt.fit(X_train, y_train)"
   ]
  },
  {
   "cell_type": "code",
   "execution_count": 8,
   "metadata": {},
   "outputs": [
    {
     "name": "stdout",
     "output_type": "stream",
     "text": [
      "0.52875226039783\n",
      "[[745 618]\n",
      " [685 717]]\n",
      "             precision    recall  f1-score   support\n",
      "\n",
      "          0       0.52      0.55      0.53      1363\n",
      "          1       0.54      0.51      0.52      1402\n",
      "\n",
      "avg / total       0.53      0.53      0.53      2765\n",
      "\n",
      "0.5290003380560001\n"
     ]
    }
   ],
   "source": [
    "print metrics.accuracy_score(y_test, dt.predict(X_test))\n",
    "print metrics.confusion_matrix(y_test, dt.predict(X_test))\n",
    "print metrics.classification_report(y_test, dt.predict(X_test))\n",
    "print metrics.roc_auc_score(y_test, dt.predict(X_test))"
   ]
  },
  {
   "cell_type": "markdown",
   "metadata": {},
   "source": [
    "## Model Deployment"
   ]
  },
  {
   "cell_type": "code",
   "execution_count": 9,
   "metadata": {},
   "outputs": [
    {
     "data": {
      "text/html": [
       "<div>\n",
       "<style scoped>\n",
       "    .dataframe tbody tr th:only-of-type {\n",
       "        vertical-align: middle;\n",
       "    }\n",
       "\n",
       "    .dataframe tbody tr th {\n",
       "        vertical-align: top;\n",
       "    }\n",
       "\n",
       "    .dataframe thead th {\n",
       "        text-align: right;\n",
       "    }\n",
       "</style>\n",
       "<table border=\"1\" class=\"dataframe\">\n",
       "  <thead>\n",
       "    <tr style=\"text-align: right;\">\n",
       "      <th></th>\n",
       "      <th>FAKEID</th>\n",
       "      <th>Y3defect</th>\n",
       "      <th>Y2G5</th>\n",
       "      <th>Y2G4</th>\n",
       "      <th>Y2G3</th>\n",
       "      <th>Y2G2</th>\n",
       "      <th>Y2G1</th>\n",
       "      <th>Y2price</th>\n",
       "      <th>YEARS</th>\n",
       "      <th>BACKER</th>\n",
       "      <th>AGE</th>\n",
       "      <th>INCOME</th>\n",
       "      <th>CHILD</th>\n",
       "      <th>GNDR</th>\n",
       "      <th>OWNHOME</th>\n",
       "      <th>SPORT</th>\n",
       "      <th>COMP</th>\n",
       "      <th>PCTMARR</th>\n",
       "      <th>HOMEVAL</th>\n",
       "    </tr>\n",
       "  </thead>\n",
       "  <tbody>\n",
       "    <tr>\n",
       "      <th>0</th>\n",
       "      <td>580D24RR</td>\n",
       "      <td>NaN</td>\n",
       "      <td>0</td>\n",
       "      <td>0</td>\n",
       "      <td>1</td>\n",
       "      <td>1</td>\n",
       "      <td>0</td>\n",
       "      <td>15</td>\n",
       "      <td>5</td>\n",
       "      <td>0</td>\n",
       "      <td>49.0</td>\n",
       "      <td>4</td>\n",
       "      <td>NaN</td>\n",
       "      <td>0</td>\n",
       "      <td>1</td>\n",
       "      <td>0.0</td>\n",
       "      <td></td>\n",
       "      <td>66</td>\n",
       "      <td>64</td>\n",
       "    </tr>\n",
       "    <tr>\n",
       "      <th>1</th>\n",
       "      <td>179Q96NO</td>\n",
       "      <td>NaN</td>\n",
       "      <td>1</td>\n",
       "      <td>1</td>\n",
       "      <td>1</td>\n",
       "      <td>1</td>\n",
       "      <td>1</td>\n",
       "      <td>25</td>\n",
       "      <td>9</td>\n",
       "      <td>1</td>\n",
       "      <td>84.0</td>\n",
       "      <td>5</td>\n",
       "      <td></td>\n",
       "      <td>0</td>\n",
       "      <td></td>\n",
       "      <td>0.0</td>\n",
       "      <td></td>\n",
       "      <td>67</td>\n",
       "      <td>128</td>\n",
       "    </tr>\n",
       "    <tr>\n",
       "      <th>2</th>\n",
       "      <td>050Z45TB</td>\n",
       "      <td>NaN</td>\n",
       "      <td>1</td>\n",
       "      <td>0</td>\n",
       "      <td>1</td>\n",
       "      <td>1</td>\n",
       "      <td>0</td>\n",
       "      <td>15</td>\n",
       "      <td>5</td>\n",
       "      <td>1</td>\n",
       "      <td>NaN</td>\n",
       "      <td></td>\n",
       "      <td>NaN</td>\n",
       "      <td>0</td>\n",
       "      <td>0</td>\n",
       "      <td>NaN</td>\n",
       "      <td>1</td>\n",
       "      <td>52</td>\n",
       "      <td>113</td>\n",
       "    </tr>\n",
       "    <tr>\n",
       "      <th>3</th>\n",
       "      <td>399V18KY</td>\n",
       "      <td>NaN</td>\n",
       "      <td>0</td>\n",
       "      <td>0</td>\n",
       "      <td>1</td>\n",
       "      <td>1</td>\n",
       "      <td>0</td>\n",
       "      <td>15</td>\n",
       "      <td>1</td>\n",
       "      <td>0</td>\n",
       "      <td>34.0</td>\n",
       "      <td>4</td>\n",
       "      <td>1</td>\n",
       "      <td>0</td>\n",
       "      <td>1</td>\n",
       "      <td>NaN</td>\n",
       "      <td></td>\n",
       "      <td>65</td>\n",
       "      <td>81</td>\n",
       "    </tr>\n",
       "    <tr>\n",
       "      <th>4</th>\n",
       "      <td>009A52KP</td>\n",
       "      <td>NaN</td>\n",
       "      <td>0</td>\n",
       "      <td>1</td>\n",
       "      <td>0</td>\n",
       "      <td>1</td>\n",
       "      <td>0</td>\n",
       "      <td>25</td>\n",
       "      <td>9</td>\n",
       "      <td>1</td>\n",
       "      <td>59.0</td>\n",
       "      <td>4</td>\n",
       "      <td>NaN</td>\n",
       "      <td>1</td>\n",
       "      <td>1</td>\n",
       "      <td>0.0</td>\n",
       "      <td></td>\n",
       "      <td>65</td>\n",
       "      <td>110</td>\n",
       "    </tr>\n",
       "  </tbody>\n",
       "</table>\n",
       "</div>"
      ],
      "text/plain": [
       "     FAKEID  Y3defect  Y2G5  Y2G4  Y2G3  Y2G2  Y2G1  Y2price  YEARS  BACKER  \\\n",
       "0  580D24RR       NaN     0     0     1     1     0       15      5       0   \n",
       "1  179Q96NO       NaN     1     1     1     1     1       25      9       1   \n",
       "2  050Z45TB       NaN     1     0     1     1     0       15      5       1   \n",
       "3  399V18KY       NaN     0     0     1     1     0       15      1       0   \n",
       "4  009A52KP       NaN     0     1     0     1     0       25      9       1   \n",
       "\n",
       "    AGE INCOME CHILD GNDR OWNHOME  SPORT COMP  PCTMARR  HOMEVAL  \n",
       "0  49.0      4   NaN    0       1    0.0            66       64  \n",
       "1  84.0      5          0            0.0            67      128  \n",
       "2   NaN          NaN    0       0    NaN    1       52      113  \n",
       "3  34.0      4     1    0       1    NaN            65       81  \n",
       "4  59.0      4   NaN    1       1    0.0            65      110  "
      ]
     },
     "execution_count": 9,
     "metadata": {},
     "output_type": "execute_result"
    }
   ],
   "source": [
    "#read in the validation dataset for making the final model\n",
    "df2 = pd.read_excel(\"validation_dataset.xlsx\")\n",
    "df2.head()"
   ]
  },
  {
   "cell_type": "code",
   "execution_count": 10,
   "metadata": {},
   "outputs": [
    {
     "name": "stdout",
     "output_type": "stream",
     "text": [
      "<class 'pandas.core.frame.DataFrame'>\n",
      "RangeIndex: 9542 entries, 0 to 9541\n",
      "Data columns (total 4 columns):\n",
      "BACKER     9542 non-null int64\n",
      "YEARS      9542 non-null int64\n",
      "PCTMARR    9542 non-null int64\n",
      "HOMEVAL    9542 non-null int64\n",
      "dtypes: int64(4)\n",
      "memory usage: 298.3 KB\n"
     ]
    }
   ],
   "source": [
    "#create new frame with just the columns we want for validation\n",
    "validation = df2[['BACKER', 'YEARS','PCTMARR','HOMEVAL']]\n",
    "validation.info()"
   ]
  },
  {
   "cell_type": "code",
   "execution_count": 11,
   "metadata": {},
   "outputs": [
    {
     "data": {
      "text/html": [
       "<div>\n",
       "<style scoped>\n",
       "    .dataframe tbody tr th:only-of-type {\n",
       "        vertical-align: middle;\n",
       "    }\n",
       "\n",
       "    .dataframe tbody tr th {\n",
       "        vertical-align: top;\n",
       "    }\n",
       "\n",
       "    .dataframe thead th {\n",
       "        text-align: right;\n",
       "    }\n",
       "</style>\n",
       "<table border=\"1\" class=\"dataframe\">\n",
       "  <thead>\n",
       "    <tr style=\"text-align: right;\">\n",
       "      <th></th>\n",
       "      <th>FAKEID</th>\n",
       "    </tr>\n",
       "  </thead>\n",
       "  <tbody>\n",
       "    <tr>\n",
       "      <th>0</th>\n",
       "      <td>580D24RR</td>\n",
       "    </tr>\n",
       "    <tr>\n",
       "      <th>1</th>\n",
       "      <td>179Q96NO</td>\n",
       "    </tr>\n",
       "    <tr>\n",
       "      <th>2</th>\n",
       "      <td>050Z45TB</td>\n",
       "    </tr>\n",
       "    <tr>\n",
       "      <th>3</th>\n",
       "      <td>399V18KY</td>\n",
       "    </tr>\n",
       "    <tr>\n",
       "      <th>4</th>\n",
       "      <td>009A52KP</td>\n",
       "    </tr>\n",
       "  </tbody>\n",
       "</table>\n",
       "</div>"
      ],
      "text/plain": [
       "     FAKEID\n",
       "0  580D24RR\n",
       "1  179Q96NO\n",
       "2  050Z45TB\n",
       "3  399V18KY\n",
       "4  009A52KP"
      ]
     },
     "execution_count": 11,
     "metadata": {},
     "output_type": "execute_result"
    }
   ],
   "source": [
    "#create new frame with just the ID column\n",
    "fakeid = pd.DataFrame(df2['FAKEID'])\n",
    "fakeid.head()"
   ]
  },
  {
   "cell_type": "code",
   "execution_count": 13,
   "metadata": {},
   "outputs": [],
   "source": [
    "# applying the decision tree model to validation dataset\n",
    "output_scoring = dt.predict(validation)\n",
    "\n",
    "# generating probability for defect for each fan\n",
    "probs = dt.predict_proba(validation)\n",
    "probs = pd.DataFrame(probs, columns=['prob of Renewal', 'prob of Defect'])\n",
    "\n",
    "# joining two dataframes (fakeid and probability)\n",
    "risky_fans = fakeid.join(probs)\n",
    "\n",
    "# joining dataframes (fakeid, probability, and prediction)\n",
    "predicted_y= pd.DataFrame(output_scoring, columns=['Predicted Defect'])\n",
    "risky_fans = risky_fans.join(predicted_y)\n",
    "\n",
    "# generating submission file\n",
    "risky_fans.to_csv(\"finalsubmissionentry2.csv\", index=False)"
   ]
  },
  {
   "cell_type": "markdown",
   "metadata": {},
   "source": [
    "## Data Visualization"
   ]
  },
  {
   "cell_type": "code",
   "execution_count": 31,
   "metadata": {},
   "outputs": [
    {
     "data": {
      "text/html": [
       "<div>\n",
       "<style scoped>\n",
       "    .dataframe tbody tr th:only-of-type {\n",
       "        vertical-align: middle;\n",
       "    }\n",
       "\n",
       "    .dataframe tbody tr th {\n",
       "        vertical-align: top;\n",
       "    }\n",
       "\n",
       "    .dataframe thead th {\n",
       "        text-align: right;\n",
       "    }\n",
       "</style>\n",
       "<table border=\"1\" class=\"dataframe\">\n",
       "  <thead>\n",
       "    <tr style=\"text-align: right;\">\n",
       "      <th></th>\n",
       "      <th>BACKER</th>\n",
       "      <th>YEARS</th>\n",
       "      <th>PCTMARR</th>\n",
       "      <th>HOMEVAL</th>\n",
       "    </tr>\n",
       "  </thead>\n",
       "  <tbody>\n",
       "    <tr>\n",
       "      <th>BACKER</th>\n",
       "      <td>1.000000</td>\n",
       "      <td>0.492478</td>\n",
       "      <td>0.010910</td>\n",
       "      <td>-0.047955</td>\n",
       "    </tr>\n",
       "    <tr>\n",
       "      <th>YEARS</th>\n",
       "      <td>0.492478</td>\n",
       "      <td>1.000000</td>\n",
       "      <td>0.020784</td>\n",
       "      <td>-0.051347</td>\n",
       "    </tr>\n",
       "    <tr>\n",
       "      <th>PCTMARR</th>\n",
       "      <td>0.010910</td>\n",
       "      <td>0.020784</td>\n",
       "      <td>1.000000</td>\n",
       "      <td>0.066991</td>\n",
       "    </tr>\n",
       "    <tr>\n",
       "      <th>HOMEVAL</th>\n",
       "      <td>-0.047955</td>\n",
       "      <td>-0.051347</td>\n",
       "      <td>0.066991</td>\n",
       "      <td>1.000000</td>\n",
       "    </tr>\n",
       "  </tbody>\n",
       "</table>\n",
       "</div>"
      ],
      "text/plain": [
       "           BACKER     YEARS   PCTMARR   HOMEVAL\n",
       "BACKER   1.000000  0.492478  0.010910 -0.047955\n",
       "YEARS    0.492478  1.000000  0.020784 -0.051347\n",
       "PCTMARR  0.010910  0.020784  1.000000  0.066991\n",
       "HOMEVAL -0.047955 -0.051347  0.066991  1.000000"
      ]
     },
     "execution_count": 31,
     "metadata": {},
     "output_type": "execute_result"
    }
   ],
   "source": [
    "validation.corr()"
   ]
  },
  {
   "cell_type": "code",
   "execution_count": 32,
   "metadata": {},
   "outputs": [
    {
     "data": {
      "text/html": [
       "<div>\n",
       "<style scoped>\n",
       "    .dataframe tbody tr th:only-of-type {\n",
       "        vertical-align: middle;\n",
       "    }\n",
       "\n",
       "    .dataframe tbody tr th {\n",
       "        vertical-align: top;\n",
       "    }\n",
       "\n",
       "    .dataframe thead th {\n",
       "        text-align: right;\n",
       "    }\n",
       "</style>\n",
       "<table border=\"1\" class=\"dataframe\">\n",
       "  <thead>\n",
       "    <tr style=\"text-align: right;\">\n",
       "      <th></th>\n",
       "      <th>Y3defect</th>\n",
       "      <th>Y2G5</th>\n",
       "      <th>Y2G4</th>\n",
       "      <th>Y2G3</th>\n",
       "      <th>Y2G2</th>\n",
       "      <th>Y2G1</th>\n",
       "      <th>Y2price</th>\n",
       "      <th>YEARS</th>\n",
       "      <th>BACKER</th>\n",
       "      <th>AGE</th>\n",
       "      <th>SPORT</th>\n",
       "      <th>PCTMARR</th>\n",
       "      <th>HOMEVAL</th>\n",
       "    </tr>\n",
       "  </thead>\n",
       "  <tbody>\n",
       "    <tr>\n",
       "      <th>Y3defect</th>\n",
       "      <td>NaN</td>\n",
       "      <td>NaN</td>\n",
       "      <td>NaN</td>\n",
       "      <td>NaN</td>\n",
       "      <td>NaN</td>\n",
       "      <td>NaN</td>\n",
       "      <td>NaN</td>\n",
       "      <td>NaN</td>\n",
       "      <td>NaN</td>\n",
       "      <td>NaN</td>\n",
       "      <td>NaN</td>\n",
       "      <td>NaN</td>\n",
       "      <td>NaN</td>\n",
       "    </tr>\n",
       "    <tr>\n",
       "      <th>Y2G5</th>\n",
       "      <td>NaN</td>\n",
       "      <td>1.000000</td>\n",
       "      <td>0.007713</td>\n",
       "      <td>0.057423</td>\n",
       "      <td>0.021634</td>\n",
       "      <td>0.096453</td>\n",
       "      <td>0.089316</td>\n",
       "      <td>0.105501</td>\n",
       "      <td>0.180600</td>\n",
       "      <td>0.015842</td>\n",
       "      <td>-0.049736</td>\n",
       "      <td>0.007308</td>\n",
       "      <td>0.015538</td>\n",
       "    </tr>\n",
       "    <tr>\n",
       "      <th>Y2G4</th>\n",
       "      <td>NaN</td>\n",
       "      <td>0.007713</td>\n",
       "      <td>1.000000</td>\n",
       "      <td>-0.052441</td>\n",
       "      <td>-0.148794</td>\n",
       "      <td>0.050348</td>\n",
       "      <td>-0.019234</td>\n",
       "      <td>0.100296</td>\n",
       "      <td>0.053399</td>\n",
       "      <td>-0.019987</td>\n",
       "      <td>-0.000335</td>\n",
       "      <td>0.004612</td>\n",
       "      <td>-0.013398</td>\n",
       "    </tr>\n",
       "    <tr>\n",
       "      <th>Y2G3</th>\n",
       "      <td>NaN</td>\n",
       "      <td>0.057423</td>\n",
       "      <td>-0.052441</td>\n",
       "      <td>1.000000</td>\n",
       "      <td>0.001669</td>\n",
       "      <td>-0.005759</td>\n",
       "      <td>0.019278</td>\n",
       "      <td>0.069078</td>\n",
       "      <td>0.063429</td>\n",
       "      <td>0.007587</td>\n",
       "      <td>-0.004990</td>\n",
       "      <td>-0.003324</td>\n",
       "      <td>-0.015174</td>\n",
       "    </tr>\n",
       "    <tr>\n",
       "      <th>Y2G2</th>\n",
       "      <td>NaN</td>\n",
       "      <td>0.021634</td>\n",
       "      <td>-0.148794</td>\n",
       "      <td>0.001669</td>\n",
       "      <td>1.000000</td>\n",
       "      <td>-0.101482</td>\n",
       "      <td>-0.029676</td>\n",
       "      <td>-0.044439</td>\n",
       "      <td>0.047534</td>\n",
       "      <td>-0.012510</td>\n",
       "      <td>-0.003562</td>\n",
       "      <td>0.000061</td>\n",
       "      <td>0.016080</td>\n",
       "    </tr>\n",
       "    <tr>\n",
       "      <th>Y2G1</th>\n",
       "      <td>NaN</td>\n",
       "      <td>0.096453</td>\n",
       "      <td>0.050348</td>\n",
       "      <td>-0.005759</td>\n",
       "      <td>-0.101482</td>\n",
       "      <td>1.000000</td>\n",
       "      <td>-0.022213</td>\n",
       "      <td>0.185428</td>\n",
       "      <td>0.104893</td>\n",
       "      <td>0.046223</td>\n",
       "      <td>-0.015138</td>\n",
       "      <td>0.011760</td>\n",
       "      <td>-0.024720</td>\n",
       "    </tr>\n",
       "    <tr>\n",
       "      <th>Y2price</th>\n",
       "      <td>NaN</td>\n",
       "      <td>0.089316</td>\n",
       "      <td>-0.019234</td>\n",
       "      <td>0.019278</td>\n",
       "      <td>-0.029676</td>\n",
       "      <td>-0.022213</td>\n",
       "      <td>1.000000</td>\n",
       "      <td>0.015137</td>\n",
       "      <td>-0.116282</td>\n",
       "      <td>-0.033068</td>\n",
       "      <td>0.034644</td>\n",
       "      <td>-0.015772</td>\n",
       "      <td>0.086208</td>\n",
       "    </tr>\n",
       "    <tr>\n",
       "      <th>YEARS</th>\n",
       "      <td>NaN</td>\n",
       "      <td>0.105501</td>\n",
       "      <td>0.100296</td>\n",
       "      <td>0.069078</td>\n",
       "      <td>-0.044439</td>\n",
       "      <td>0.185428</td>\n",
       "      <td>0.015137</td>\n",
       "      <td>1.000000</td>\n",
       "      <td>0.492478</td>\n",
       "      <td>0.264872</td>\n",
       "      <td>-0.058312</td>\n",
       "      <td>0.020784</td>\n",
       "      <td>-0.051347</td>\n",
       "    </tr>\n",
       "    <tr>\n",
       "      <th>BACKER</th>\n",
       "      <td>NaN</td>\n",
       "      <td>0.180600</td>\n",
       "      <td>0.053399</td>\n",
       "      <td>0.063429</td>\n",
       "      <td>0.047534</td>\n",
       "      <td>0.104893</td>\n",
       "      <td>-0.116282</td>\n",
       "      <td>0.492478</td>\n",
       "      <td>1.000000</td>\n",
       "      <td>0.196914</td>\n",
       "      <td>-0.056746</td>\n",
       "      <td>0.010910</td>\n",
       "      <td>-0.047955</td>\n",
       "    </tr>\n",
       "    <tr>\n",
       "      <th>AGE</th>\n",
       "      <td>NaN</td>\n",
       "      <td>0.015842</td>\n",
       "      <td>-0.019987</td>\n",
       "      <td>0.007587</td>\n",
       "      <td>-0.012510</td>\n",
       "      <td>0.046223</td>\n",
       "      <td>-0.033068</td>\n",
       "      <td>0.264872</td>\n",
       "      <td>0.196914</td>\n",
       "      <td>1.000000</td>\n",
       "      <td>-0.056324</td>\n",
       "      <td>-0.062175</td>\n",
       "      <td>0.012638</td>\n",
       "    </tr>\n",
       "    <tr>\n",
       "      <th>SPORT</th>\n",
       "      <td>NaN</td>\n",
       "      <td>-0.049736</td>\n",
       "      <td>-0.000335</td>\n",
       "      <td>-0.004990</td>\n",
       "      <td>-0.003562</td>\n",
       "      <td>-0.015138</td>\n",
       "      <td>0.034644</td>\n",
       "      <td>-0.058312</td>\n",
       "      <td>-0.056746</td>\n",
       "      <td>-0.056324</td>\n",
       "      <td>1.000000</td>\n",
       "      <td>0.022147</td>\n",
       "      <td>0.075465</td>\n",
       "    </tr>\n",
       "    <tr>\n",
       "      <th>PCTMARR</th>\n",
       "      <td>NaN</td>\n",
       "      <td>0.007308</td>\n",
       "      <td>0.004612</td>\n",
       "      <td>-0.003324</td>\n",
       "      <td>0.000061</td>\n",
       "      <td>0.011760</td>\n",
       "      <td>-0.015772</td>\n",
       "      <td>0.020784</td>\n",
       "      <td>0.010910</td>\n",
       "      <td>-0.062175</td>\n",
       "      <td>0.022147</td>\n",
       "      <td>1.000000</td>\n",
       "      <td>0.066991</td>\n",
       "    </tr>\n",
       "    <tr>\n",
       "      <th>HOMEVAL</th>\n",
       "      <td>NaN</td>\n",
       "      <td>0.015538</td>\n",
       "      <td>-0.013398</td>\n",
       "      <td>-0.015174</td>\n",
       "      <td>0.016080</td>\n",
       "      <td>-0.024720</td>\n",
       "      <td>0.086208</td>\n",
       "      <td>-0.051347</td>\n",
       "      <td>-0.047955</td>\n",
       "      <td>0.012638</td>\n",
       "      <td>0.075465</td>\n",
       "      <td>0.066991</td>\n",
       "      <td>1.000000</td>\n",
       "    </tr>\n",
       "  </tbody>\n",
       "</table>\n",
       "</div>"
      ],
      "text/plain": [
       "          Y3defect      Y2G5      Y2G4      Y2G3      Y2G2      Y2G1  \\\n",
       "Y3defect       NaN       NaN       NaN       NaN       NaN       NaN   \n",
       "Y2G5           NaN  1.000000  0.007713  0.057423  0.021634  0.096453   \n",
       "Y2G4           NaN  0.007713  1.000000 -0.052441 -0.148794  0.050348   \n",
       "Y2G3           NaN  0.057423 -0.052441  1.000000  0.001669 -0.005759   \n",
       "Y2G2           NaN  0.021634 -0.148794  0.001669  1.000000 -0.101482   \n",
       "Y2G1           NaN  0.096453  0.050348 -0.005759 -0.101482  1.000000   \n",
       "Y2price        NaN  0.089316 -0.019234  0.019278 -0.029676 -0.022213   \n",
       "YEARS          NaN  0.105501  0.100296  0.069078 -0.044439  0.185428   \n",
       "BACKER         NaN  0.180600  0.053399  0.063429  0.047534  0.104893   \n",
       "AGE            NaN  0.015842 -0.019987  0.007587 -0.012510  0.046223   \n",
       "SPORT          NaN -0.049736 -0.000335 -0.004990 -0.003562 -0.015138   \n",
       "PCTMARR        NaN  0.007308  0.004612 -0.003324  0.000061  0.011760   \n",
       "HOMEVAL        NaN  0.015538 -0.013398 -0.015174  0.016080 -0.024720   \n",
       "\n",
       "           Y2price     YEARS    BACKER       AGE     SPORT   PCTMARR   HOMEVAL  \n",
       "Y3defect       NaN       NaN       NaN       NaN       NaN       NaN       NaN  \n",
       "Y2G5      0.089316  0.105501  0.180600  0.015842 -0.049736  0.007308  0.015538  \n",
       "Y2G4     -0.019234  0.100296  0.053399 -0.019987 -0.000335  0.004612 -0.013398  \n",
       "Y2G3      0.019278  0.069078  0.063429  0.007587 -0.004990 -0.003324 -0.015174  \n",
       "Y2G2     -0.029676 -0.044439  0.047534 -0.012510 -0.003562  0.000061  0.016080  \n",
       "Y2G1     -0.022213  0.185428  0.104893  0.046223 -0.015138  0.011760 -0.024720  \n",
       "Y2price   1.000000  0.015137 -0.116282 -0.033068  0.034644 -0.015772  0.086208  \n",
       "YEARS     0.015137  1.000000  0.492478  0.264872 -0.058312  0.020784 -0.051347  \n",
       "BACKER   -0.116282  0.492478  1.000000  0.196914 -0.056746  0.010910 -0.047955  \n",
       "AGE      -0.033068  0.264872  0.196914  1.000000 -0.056324 -0.062175  0.012638  \n",
       "SPORT     0.034644 -0.058312 -0.056746 -0.056324  1.000000  0.022147  0.075465  \n",
       "PCTMARR  -0.015772  0.020784  0.010910 -0.062175  0.022147  1.000000  0.066991  \n",
       "HOMEVAL   0.086208 -0.051347 -0.047955  0.012638  0.075465  0.066991  1.000000  "
      ]
     },
     "execution_count": 32,
     "metadata": {},
     "output_type": "execute_result"
    }
   ],
   "source": [
    "df2.corr()"
   ]
  },
  {
   "cell_type": "code",
   "execution_count": 33,
   "metadata": {},
   "outputs": [
    {
     "data": {
      "text/plain": [
       "<matplotlib.axes._subplots.AxesSubplot at 0x1036b7f0>"
      ]
     },
     "execution_count": 33,
     "metadata": {},
     "output_type": "execute_result"
    },
    {
     "data": {
      "image/png": "[encoded data removed]",
      "text/plain": [
       "<matplotlib.figure.Figure at 0x10ca6c88>"
      ]
     },
     "metadata": {},
     "output_type": "display_data"
    }
   ],
   "source": [
    "# correlation heatmap\n",
    "plt.figure(figsize=(12,12))\n",
    "sns.heatmap(df2.corr(), annot=True)"
   ]
  },
  {
   "cell_type": "code",
   "execution_count": 34,
   "metadata": {},
   "outputs": [
    {
     "data": {
      "text/plain": [
       "<seaborn.axisgrid.PairGrid at 0x12895b70>"
      ]
     },
     "execution_count": 34,
     "metadata": {},
     "output_type": "execute_result"
    },
    {
     "data": {
      "image/png": "[encoded data removed]",
      "text/plain": [
       "<matplotlib.figure.Figure at 0xf992e80>"
      ]
     },
     "metadata": {},
     "output_type": "display_data"
    }
   ],
   "source": [
    "#create a scatter matrix\n",
    "g = sns.PairGrid(validation)\n",
    "g.map(plt.scatter)"
   ]
  },
  {
   "cell_type": "markdown",
   "metadata": {},
   "source": [
    "## Further Analysis"
   ]
  },
  {
   "cell_type": "code",
   "execution_count": 14,
   "metadata": {},
   "outputs": [
    {
     "data": {
      "text/html": [
       "<div>\n",
       "<style scoped>\n",
       "    .dataframe tbody tr th:only-of-type {\n",
       "        vertical-align: middle;\n",
       "    }\n",
       "\n",
       "    .dataframe tbody tr th {\n",
       "        vertical-align: top;\n",
       "    }\n",
       "\n",
       "    .dataframe thead th {\n",
       "        text-align: right;\n",
       "    }\n",
       "</style>\n",
       "<table border=\"1\" class=\"dataframe\">\n",
       "  <thead>\n",
       "    <tr style=\"text-align: right;\">\n",
       "      <th></th>\n",
       "      <th>FAKEID</th>\n",
       "      <th>prob of Renewal</th>\n",
       "      <th>prob of Defect</th>\n",
       "      <th>Predicted Defect</th>\n",
       "    </tr>\n",
       "  </thead>\n",
       "  <tbody>\n",
       "    <tr>\n",
       "      <th>0</th>\n",
       "      <td>580D24RR</td>\n",
       "      <td>0.0</td>\n",
       "      <td>1.0</td>\n",
       "      <td>1</td>\n",
       "    </tr>\n",
       "    <tr>\n",
       "      <th>1</th>\n",
       "      <td>179Q96NO</td>\n",
       "      <td>0.0</td>\n",
       "      <td>1.0</td>\n",
       "      <td>1</td>\n",
       "    </tr>\n",
       "    <tr>\n",
       "      <th>2</th>\n",
       "      <td>050Z45TB</td>\n",
       "      <td>1.0</td>\n",
       "      <td>0.0</td>\n",
       "      <td>0</td>\n",
       "    </tr>\n",
       "    <tr>\n",
       "      <th>3</th>\n",
       "      <td>399V18KY</td>\n",
       "      <td>0.0</td>\n",
       "      <td>1.0</td>\n",
       "      <td>1</td>\n",
       "    </tr>\n",
       "    <tr>\n",
       "      <th>4</th>\n",
       "      <td>009A52KP</td>\n",
       "      <td>1.0</td>\n",
       "      <td>0.0</td>\n",
       "      <td>0</td>\n",
       "    </tr>\n",
       "  </tbody>\n",
       "</table>\n",
       "</div>"
      ],
      "text/plain": [
       "     FAKEID  prob of Renewal  prob of Defect  Predicted Defect\n",
       "0  580D24RR              0.0             1.0                 1\n",
       "1  179Q96NO              0.0             1.0                 1\n",
       "2  050Z45TB              1.0             0.0                 0\n",
       "3  399V18KY              0.0             1.0                 1\n",
       "4  009A52KP              1.0             0.0                 0"
      ]
     },
     "execution_count": 14,
     "metadata": {},
     "output_type": "execute_result"
    }
   ],
   "source": [
    "final = pd.read_csv('finalsubmissionentry.csv')\n",
    "final.head()"
   ]
  },
  {
   "cell_type": "code",
   "execution_count": 15,
   "metadata": {},
   "outputs": [
    {
     "data": {
      "text/html": [
       "<div>\n",
       "<style scoped>\n",
       "    .dataframe tbody tr th:only-of-type {\n",
       "        vertical-align: middle;\n",
       "    }\n",
       "\n",
       "    .dataframe tbody tr th {\n",
       "        vertical-align: top;\n",
       "    }\n",
       "\n",
       "    .dataframe thead th {\n",
       "        text-align: right;\n",
       "    }\n",
       "</style>\n",
       "<table border=\"1\" class=\"dataframe\">\n",
       "  <thead>\n",
       "    <tr style=\"text-align: right;\">\n",
       "      <th></th>\n",
       "      <th>BACKER</th>\n",
       "      <th>YEARS</th>\n",
       "      <th>PCTMARR</th>\n",
       "      <th>HOMEVAL</th>\n",
       "      <th>FAKEID</th>\n",
       "      <th>prob of Renewal</th>\n",
       "      <th>prob of Defect</th>\n",
       "      <th>Predicted Defect</th>\n",
       "    </tr>\n",
       "  </thead>\n",
       "  <tbody>\n",
       "    <tr>\n",
       "      <th>0</th>\n",
       "      <td>0</td>\n",
       "      <td>5</td>\n",
       "      <td>66</td>\n",
       "      <td>64</td>\n",
       "      <td>580D24RR</td>\n",
       "      <td>0.0</td>\n",
       "      <td>1.0</td>\n",
       "      <td>1</td>\n",
       "    </tr>\n",
       "    <tr>\n",
       "      <th>1</th>\n",
       "      <td>1</td>\n",
       "      <td>9</td>\n",
       "      <td>67</td>\n",
       "      <td>128</td>\n",
       "      <td>179Q96NO</td>\n",
       "      <td>0.0</td>\n",
       "      <td>1.0</td>\n",
       "      <td>1</td>\n",
       "    </tr>\n",
       "    <tr>\n",
       "      <th>2</th>\n",
       "      <td>1</td>\n",
       "      <td>5</td>\n",
       "      <td>52</td>\n",
       "      <td>113</td>\n",
       "      <td>050Z45TB</td>\n",
       "      <td>1.0</td>\n",
       "      <td>0.0</td>\n",
       "      <td>0</td>\n",
       "    </tr>\n",
       "    <tr>\n",
       "      <th>3</th>\n",
       "      <td>0</td>\n",
       "      <td>1</td>\n",
       "      <td>65</td>\n",
       "      <td>81</td>\n",
       "      <td>399V18KY</td>\n",
       "      <td>0.0</td>\n",
       "      <td>1.0</td>\n",
       "      <td>1</td>\n",
       "    </tr>\n",
       "    <tr>\n",
       "      <th>4</th>\n",
       "      <td>1</td>\n",
       "      <td>9</td>\n",
       "      <td>65</td>\n",
       "      <td>110</td>\n",
       "      <td>009A52KP</td>\n",
       "      <td>1.0</td>\n",
       "      <td>0.0</td>\n",
       "      <td>0</td>\n",
       "    </tr>\n",
       "  </tbody>\n",
       "</table>\n",
       "</div>"
      ],
      "text/plain": [
       "   BACKER  YEARS  PCTMARR  HOMEVAL    FAKEID  prob of Renewal  prob of Defect  \\\n",
       "0       0      5       66       64  580D24RR              0.0             1.0   \n",
       "1       1      9       67      128  179Q96NO              0.0             1.0   \n",
       "2       1      5       52      113  050Z45TB              1.0             0.0   \n",
       "3       0      1       65       81  399V18KY              0.0             1.0   \n",
       "4       1      9       65      110  009A52KP              1.0             0.0   \n",
       "\n",
       "   Predicted Defect  \n",
       "0                 1  \n",
       "1                 1  \n",
       "2                 0  \n",
       "3                 1  \n",
       "4                 0  "
      ]
     },
     "execution_count": 15,
     "metadata": {},
     "output_type": "execute_result"
    }
   ],
   "source": [
    "risk = validation.join(final)\n",
    "risk.head()"
   ]
  },
  {
   "cell_type": "code",
   "execution_count": 16,
   "metadata": {},
   "outputs": [
    {
     "data": {
      "text/plain": [
       "<seaborn.axisgrid.FacetGrid at 0xf7597f0>"
      ]
     },
     "execution_count": 16,
     "metadata": {},
     "output_type": "execute_result"
    },
    {
     "data": {
      "image/png": "[encoded data removed]",
      "text/plain": [
       "<matplotlib.figure.Figure at 0xf7592b0>"
      ]
     },
     "metadata": {},
     "output_type": "display_data"
    }
   ],
   "source": [
    "#graph the relationship between years and the predicted defect\n",
    "sns.lmplot(\"YEARS\", \"Predicted Defect\", risk)"
   ]
  },
  {
   "cell_type": "code",
   "execution_count": 17,
   "metadata": {},
   "outputs": [
    {
     "data": {
      "text/plain": [
       "<seaborn.axisgrid.FacetGrid at 0xfaa2668>"
      ]
     },
     "execution_count": 17,
     "metadata": {},
     "output_type": "execute_result"
    },
    {
     "data": {
      "image/png": "[encoded data removed]",
      "text/plain": [
       "<matplotlib.figure.Figure at 0xfaa2860>"
      ]
     },
     "metadata": {},
     "output_type": "display_data"
    }
   ],
   "source": [
    "#graph the relationship between home eval and the predicted defect\n",
    "sns.lmplot(\"HOMEVAL\", \"Predicted Defect\", risk)"
   ]
  },
  {
   "cell_type": "code",
   "execution_count": 18,
   "metadata": {},
   "outputs": [
    {
     "data": {
      "text/plain": [
       "<seaborn.axisgrid.FacetGrid at 0xdf09f28>"
      ]
     },
     "execution_count": 18,
     "metadata": {},
     "output_type": "execute_result"
    },
    {
     "data": {
      "image/png": "[encoded data removed]",
      "text/plain": [
       "<matplotlib.figure.Figure at 0xdf09cf8>"
      ]
     },
     "metadata": {},
     "output_type": "display_data"
    }
   ],
   "source": [
    "#graph the relationship between years and the predicted defect\n",
    "sns.lmplot(\"PCTMARR\", \"Predicted Defect\", risk)"
   ]
  },
  {
   "cell_type": "code",
   "execution_count": 19,
   "metadata": {},
   "outputs": [],
   "source": [
    "A = risk['Predicted Defect']\n",
    "B = risk.drop(['Predicted Defect'], axis=1)"
   ]
  },
  {
   "cell_type": "code",
   "execution_count": 22,
   "metadata": {},
   "outputs": [
    {
     "data": {
      "text/html": [
       "<div>\n",
       "<style scoped>\n",
       "    .dataframe tbody tr th:only-of-type {\n",
       "        vertical-align: middle;\n",
       "    }\n",
       "\n",
       "    .dataframe tbody tr th {\n",
       "        vertical-align: top;\n",
       "    }\n",
       "\n",
       "    .dataframe thead th {\n",
       "        text-align: right;\n",
       "    }\n",
       "</style>\n",
       "<table border=\"1\" class=\"dataframe\">\n",
       "  <thead>\n",
       "    <tr style=\"text-align: right;\">\n",
       "      <th></th>\n",
       "      <th>BACKER</th>\n",
       "      <th>YEARS</th>\n",
       "      <th>PCTMARR</th>\n",
       "      <th>HOMEVAL</th>\n",
       "    </tr>\n",
       "  </thead>\n",
       "  <tbody>\n",
       "    <tr>\n",
       "      <th>0</th>\n",
       "      <td>0</td>\n",
       "      <td>5</td>\n",
       "      <td>66</td>\n",
       "      <td>64</td>\n",
       "    </tr>\n",
       "    <tr>\n",
       "      <th>1</th>\n",
       "      <td>1</td>\n",
       "      <td>9</td>\n",
       "      <td>67</td>\n",
       "      <td>128</td>\n",
       "    </tr>\n",
       "    <tr>\n",
       "      <th>2</th>\n",
       "      <td>1</td>\n",
       "      <td>5</td>\n",
       "      <td>52</td>\n",
       "      <td>113</td>\n",
       "    </tr>\n",
       "    <tr>\n",
       "      <th>3</th>\n",
       "      <td>0</td>\n",
       "      <td>1</td>\n",
       "      <td>65</td>\n",
       "      <td>81</td>\n",
       "    </tr>\n",
       "    <tr>\n",
       "      <th>4</th>\n",
       "      <td>1</td>\n",
       "      <td>9</td>\n",
       "      <td>65</td>\n",
       "      <td>110</td>\n",
       "    </tr>\n",
       "  </tbody>\n",
       "</table>\n",
       "</div>"
      ],
      "text/plain": [
       "   BACKER  YEARS  PCTMARR  HOMEVAL\n",
       "0       0      5       66       64\n",
       "1       1      9       67      128\n",
       "2       1      5       52      113\n",
       "3       0      1       65       81\n",
       "4       1      9       65      110"
      ]
     },
     "execution_count": 22,
     "metadata": {},
     "output_type": "execute_result"
    }
   ],
   "source": [
    "B = risk.drop(['prob of Renewal','prob of Defect','Predicted Defect', 'FAKEID'], axis=1)\n",
    "B.head()"
   ]
  },
  {
   "cell_type": "code",
   "execution_count": 23,
   "metadata": {},
   "outputs": [
    {
     "name": "stdout",
     "output_type": "stream",
     "text": [
      "Coefficients:  [-0.08292712 -0.03955918 -0.00035134  0.00018009]\n",
      "y-intercept  0.7983753699827181\n"
     ]
    }
   ],
   "source": [
    "model1 = lm.LinearRegression()\n",
    "model1.fit(B, A)   \n",
    "model1_y = model1.predict(B)\n",
    "print 'Coefficients: ', model1.coef_\n",
    "print \"y-intercept \", model1.intercept_"
   ]
  },
  {
   "cell_type": "code",
   "execution_count": 24,
   "metadata": {},
   "outputs": [
    {
     "data": {
      "text/html": [
       "<div>\n",
       "<style scoped>\n",
       "    .dataframe tbody tr th:only-of-type {\n",
       "        vertical-align: middle;\n",
       "    }\n",
       "\n",
       "    .dataframe tbody tr th {\n",
       "        vertical-align: top;\n",
       "    }\n",
       "\n",
       "    .dataframe thead th {\n",
       "        text-align: right;\n",
       "    }\n",
       "</style>\n",
       "<table border=\"1\" class=\"dataframe\">\n",
       "  <thead>\n",
       "    <tr style=\"text-align: right;\">\n",
       "      <th></th>\n",
       "      <th>0</th>\n",
       "      <th>1</th>\n",
       "    </tr>\n",
       "  </thead>\n",
       "  <tbody>\n",
       "    <tr>\n",
       "      <th>0</th>\n",
       "      <td>BACKER</td>\n",
       "      <td>-0.082927</td>\n",
       "    </tr>\n",
       "    <tr>\n",
       "      <th>1</th>\n",
       "      <td>YEARS</td>\n",
       "      <td>-0.039559</td>\n",
       "    </tr>\n",
       "    <tr>\n",
       "      <th>2</th>\n",
       "      <td>PCTMARR</td>\n",
       "      <td>-0.000351</td>\n",
       "    </tr>\n",
       "    <tr>\n",
       "      <th>3</th>\n",
       "      <td>HOMEVAL</td>\n",
       "      <td>0.000180</td>\n",
       "    </tr>\n",
       "  </tbody>\n",
       "</table>\n",
       "</div>"
      ],
      "text/plain": [
       "         0         1\n",
       "0   BACKER -0.082927\n",
       "1    YEARS -0.039559\n",
       "2  PCTMARR -0.000351\n",
       "3  HOMEVAL  0.000180"
      ]
     },
     "execution_count": 24,
     "metadata": {},
     "output_type": "execute_result"
    }
   ],
   "source": [
    "pd.DataFrame(zip(B.columns, np.transpose(model1.coef_)))"
   ]
  },
  {
   "cell_type": "code",
   "execution_count": 25,
   "metadata": {},
   "outputs": [
    {
     "data": {
      "text/plain": [
       "[(u'BACKER', '-0.083'),\n",
       " (u'YEARS', '-0.040'),\n",
       " (u'PCTMARR', '-0.000'),\n",
       " (u'HOMEVAL', '0.000')]"
      ]
     },
     "execution_count": 25,
     "metadata": {},
     "output_type": "execute_result"
    }
   ],
   "source": [
    "coef = [\"%.3f\" % i for i in model1.coef_]\n",
    "Bcolumns = [ i for i in B.columns ]\n",
    "zip(Bcolumns, coef)"
   ]
  },
  {
   "cell_type": "code",
   "execution_count": 27,
   "metadata": {},
   "outputs": [
    {
     "name": "stdout",
     "output_type": "stream",
     "text": [
      " mean square error:  0.22699313228552792\n",
      "variance or r-squared:  0.09047677218949457\n"
     ]
    }
   ],
   "source": [
    "print \"mean square error: \", mean_squared_error(A, model1_y)\n",
    "print \"variance or r-squared: \", explained_variance_score(A, model1_y)"
   ]
  },
  {
   "cell_type": "markdown",
   "metadata": {},
   "source": []
  }
 ],
 "metadata": {
  "kernelspec": {
   "display_name": "Python 2",
   "language": "python",
   "name": "python2"
  },
  "language_info": {
   "codemirror_mode": {
    "name": "ipython",
    "version": 2
   },
   "file_extension": ".py",
   "mimetype": "text/x-python",
   "name": "python",
   "nbconvert_exporter": "python",
   "pygments_lexer": "ipython2",
   "version": "2.7.14"
  }
 },
 "nbformat": 4,
 "nbformat_minor": 2
}
